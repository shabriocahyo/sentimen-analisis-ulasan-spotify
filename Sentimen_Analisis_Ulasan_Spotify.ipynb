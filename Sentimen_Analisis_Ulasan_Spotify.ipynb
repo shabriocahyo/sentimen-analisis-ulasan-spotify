{
  "cells": [
    {
      "cell_type": "code",
      "execution_count": null,
      "id": "21857c73-4b9d-4423-966b-e5d1c9a29166",
      "metadata": {
        "id": "21857c73-4b9d-4423-966b-e5d1c9a29166"
      },
      "outputs": [],
      "source": [
        "import numpy as np\n",
        "import pandas as pd\n",
        "\n",
        "import string\n",
        "import nltk\n",
        "from nltk import tokenize\n",
        "from nltk.corpus import stopwords\n",
        "from nltk.stem import WordNetLemmatizer\n",
        "\n",
        "import re\n",
        "from nltk.tokenize import word_tokenize\n",
        "from nltk.stem import PorterStemmer\n",
        "\n",
        "from sklearn.feature_extraction.text import TfidfVectorizer\n",
        "from sklearn.model_selection import train_test_split\n",
        "from sklearn.preprocessing import LabelEncoder\n",
        "from sklearn.ensemble import RandomForestClassifier\n",
        "from sklearn.metrics import accuracy_score,precision_score,recall_score,confusion_matrix,roc_curve,classification_report"
      ]
    },
    {
      "cell_type": "markdown",
      "id": "802c7ff3-f52f-4db5-9f6d-10be38436d49",
      "metadata": {
        "id": "802c7ff3-f52f-4db5-9f6d-10be38436d49"
      },
      "source": [
        "**BACA DATASET**"
      ]
    },
    {
      "cell_type": "code",
      "execution_count": null,
      "id": "7b5ca3ab-5051-45ae-81d7-90fe4eeb75ee",
      "metadata": {
        "id": "7b5ca3ab-5051-45ae-81d7-90fe4eeb75ee"
      },
      "outputs": [],
      "source": [
        "import pandas as pd\n",
        "df = pd.read_csv('reviews.csv')"
      ]
    },
    {
      "cell_type": "code",
      "execution_count": null,
      "id": "9331ac90-7b45-41a7-a03f-9342ff45c32d",
      "metadata": {
        "id": "9331ac90-7b45-41a7-a03f-9342ff45c32d",
        "outputId": "4fcfbaa4-66ff-453e-c661-feee6d22e7fc"
      },
      "outputs": [
        {
          "data": {
            "text/html": [
              "<div>\n",
              "<style scoped>\n",
              "    .dataframe tbody tr th:only-of-type {\n",
              "        vertical-align: middle;\n",
              "    }\n",
              "\n",
              "    .dataframe tbody tr th {\n",
              "        vertical-align: top;\n",
              "    }\n",
              "\n",
              "    .dataframe thead th {\n",
              "        text-align: right;\n",
              "    }\n",
              "</style>\n",
              "<table border=\"1\" class=\"dataframe\">\n",
              "  <thead>\n",
              "    <tr style=\"text-align: right;\">\n",
              "      <th></th>\n",
              "      <th>Time_submitted</th>\n",
              "      <th>Review</th>\n",
              "      <th>Rating</th>\n",
              "      <th>Total_thumbsup</th>\n",
              "      <th>Reply</th>\n",
              "    </tr>\n",
              "  </thead>\n",
              "  <tbody>\n",
              "    <tr>\n",
              "      <th>0</th>\n",
              "      <td>2022-07-09 15:00:00</td>\n",
              "      <td>Great music service, the audio is high quality...</td>\n",
              "      <td>5</td>\n",
              "      <td>2</td>\n",
              "      <td>NaN</td>\n",
              "    </tr>\n",
              "    <tr>\n",
              "      <th>1</th>\n",
              "      <td>2022-07-09 14:21:22</td>\n",
              "      <td>Please ignore previous negative rating. This a...</td>\n",
              "      <td>5</td>\n",
              "      <td>1</td>\n",
              "      <td>NaN</td>\n",
              "    </tr>\n",
              "    <tr>\n",
              "      <th>2</th>\n",
              "      <td>2022-07-09 13:27:32</td>\n",
              "      <td>This pop-up \"Get the best Spotify experience o...</td>\n",
              "      <td>4</td>\n",
              "      <td>0</td>\n",
              "      <td>NaN</td>\n",
              "    </tr>\n",
              "    <tr>\n",
              "      <th>3</th>\n",
              "      <td>2022-07-09 13:26:45</td>\n",
              "      <td>Really buggy and terrible to use as of recently</td>\n",
              "      <td>1</td>\n",
              "      <td>1</td>\n",
              "      <td>NaN</td>\n",
              "    </tr>\n",
              "    <tr>\n",
              "      <th>4</th>\n",
              "      <td>2022-07-09 13:20:49</td>\n",
              "      <td>Dear Spotify why do I get songs that I didn't ...</td>\n",
              "      <td>1</td>\n",
              "      <td>1</td>\n",
              "      <td>NaN</td>\n",
              "    </tr>\n",
              "  </tbody>\n",
              "</table>\n",
              "</div>"
            ],
            "text/plain": [
              "        Time_submitted                                             Review  \\\n",
              "0  2022-07-09 15:00:00  Great music service, the audio is high quality...   \n",
              "1  2022-07-09 14:21:22  Please ignore previous negative rating. This a...   \n",
              "2  2022-07-09 13:27:32  This pop-up \"Get the best Spotify experience o...   \n",
              "3  2022-07-09 13:26:45    Really buggy and terrible to use as of recently   \n",
              "4  2022-07-09 13:20:49  Dear Spotify why do I get songs that I didn't ...   \n",
              "\n",
              "   Rating  Total_thumbsup Reply  \n",
              "0       5               2   NaN  \n",
              "1       5               1   NaN  \n",
              "2       4               0   NaN  \n",
              "3       1               1   NaN  \n",
              "4       1               1   NaN  "
            ]
          },
          "execution_count": 3,
          "metadata": {},
          "output_type": "execute_result"
        }
      ],
      "source": [
        "# Menampilkan 5 baris pertama data\n",
        "df.head()"
      ]
    },
    {
      "cell_type": "code",
      "execution_count": null,
      "id": "0ccb92c4-f292-4a89-86d0-4976cbfc5938",
      "metadata": {
        "id": "0ccb92c4-f292-4a89-86d0-4976cbfc5938",
        "outputId": "e50bf1ff-99c8-4a0a-e810-6f461732643a"
      },
      "outputs": [
        {
          "name": "stdout",
          "output_type": "stream",
          "text": [
            "<class 'pandas.core.frame.DataFrame'>\n",
            "RangeIndex: 61594 entries, 0 to 61593\n",
            "Data columns (total 5 columns):\n",
            " #   Column          Non-Null Count  Dtype \n",
            "---  ------          --------------  ----- \n",
            " 0   Time_submitted  61594 non-null  object\n",
            " 1   Review          61594 non-null  object\n",
            " 2   Rating          61594 non-null  int64 \n",
            " 3   Total_thumbsup  61594 non-null  int64 \n",
            " 4   Reply           216 non-null    object\n",
            "dtypes: int64(2), object(3)\n",
            "memory usage: 2.3+ MB\n"
          ]
        }
      ],
      "source": [
        "df.info()"
      ]
    },
    {
      "cell_type": "code",
      "execution_count": null,
      "id": "d01df484-75ab-475e-b468-24635a3c71db",
      "metadata": {
        "id": "d01df484-75ab-475e-b468-24635a3c71db",
        "outputId": "6c6a38b3-1892-4908-8a24-75a05c895525"
      },
      "outputs": [
        {
          "data": {
            "text/html": [
              "<div>\n",
              "<style scoped>\n",
              "    .dataframe tbody tr th:only-of-type {\n",
              "        vertical-align: middle;\n",
              "    }\n",
              "\n",
              "    .dataframe tbody tr th {\n",
              "        vertical-align: top;\n",
              "    }\n",
              "\n",
              "    .dataframe thead th {\n",
              "        text-align: right;\n",
              "    }\n",
              "</style>\n",
              "<table border=\"1\" class=\"dataframe\">\n",
              "  <thead>\n",
              "    <tr style=\"text-align: right;\">\n",
              "      <th></th>\n",
              "      <th>Review</th>\n",
              "      <th>Rating</th>\n",
              "      <th>Total_thumbsup</th>\n",
              "    </tr>\n",
              "  </thead>\n",
              "  <tbody>\n",
              "    <tr>\n",
              "      <th>0</th>\n",
              "      <td>Great music service, the audio is high quality...</td>\n",
              "      <td>5</td>\n",
              "      <td>2</td>\n",
              "    </tr>\n",
              "    <tr>\n",
              "      <th>1</th>\n",
              "      <td>Please ignore previous negative rating. This a...</td>\n",
              "      <td>5</td>\n",
              "      <td>1</td>\n",
              "    </tr>\n",
              "    <tr>\n",
              "      <th>2</th>\n",
              "      <td>This pop-up \"Get the best Spotify experience o...</td>\n",
              "      <td>4</td>\n",
              "      <td>0</td>\n",
              "    </tr>\n",
              "    <tr>\n",
              "      <th>3</th>\n",
              "      <td>Really buggy and terrible to use as of recently</td>\n",
              "      <td>1</td>\n",
              "      <td>1</td>\n",
              "    </tr>\n",
              "    <tr>\n",
              "      <th>4</th>\n",
              "      <td>Dear Spotify why do I get songs that I didn't ...</td>\n",
              "      <td>1</td>\n",
              "      <td>1</td>\n",
              "    </tr>\n",
              "  </tbody>\n",
              "</table>\n",
              "</div>"
            ],
            "text/plain": [
              "                                              Review  Rating  Total_thumbsup\n",
              "0  Great music service, the audio is high quality...       5               2\n",
              "1  Please ignore previous negative rating. This a...       5               1\n",
              "2  This pop-up \"Get the best Spotify experience o...       4               0\n",
              "3    Really buggy and terrible to use as of recently       1               1\n",
              "4  Dear Spotify why do I get songs that I didn't ...       1               1"
            ]
          },
          "execution_count": 5,
          "metadata": {},
          "output_type": "execute_result"
        }
      ],
      "source": [
        "df = df[['Review', 'Rating', 'Total_thumbsup']]\n",
        "df.head()"
      ]
    },
    {
      "cell_type": "markdown",
      "id": "317a4528-0ef5-4bd6-9106-22598683eb57",
      "metadata": {
        "id": "317a4528-0ef5-4bd6-9106-22598683eb57"
      },
      "source": [
        "**CLEANING DATAFRAME**"
      ]
    },
    {
      "cell_type": "code",
      "execution_count": null,
      "id": "c0dffbfa-dc4a-4896-9627-98e111ec5808",
      "metadata": {
        "id": "c0dffbfa-dc4a-4896-9627-98e111ec5808",
        "outputId": "322a8b67-4375-46c9-ee98-395918e4cec3"
      },
      "outputs": [
        {
          "data": {
            "text/plain": [
              "Review            0\n",
              "Rating            0\n",
              "Total_thumbsup    0\n",
              "dtype: int64"
            ]
          },
          "execution_count": 6,
          "metadata": {},
          "output_type": "execute_result"
        }
      ],
      "source": [
        "df.isna().sum()"
      ]
    },
    {
      "cell_type": "code",
      "execution_count": null,
      "id": "8e56b963-57c9-4647-b12e-43cdea973c3a",
      "metadata": {
        "id": "8e56b963-57c9-4647-b12e-43cdea973c3a",
        "outputId": "e67291cf-c41b-4659-df2b-8793acc09a83"
      },
      "outputs": [
        {
          "name": "stdout",
          "output_type": "stream",
          "text": [
            "                                      Review  Rating  Total_thumbsup\n",
            "2495                      Good app for songs       5               0\n",
            "2996                         I love Spotify.       5               0\n",
            "3261                       Amazing music app       5               0\n",
            "3308                            Too many ads       1               1\n",
            "4457                 Great app tons of music       5               0\n",
            "...                                      ...     ...             ...\n",
            "40690              Great selection of music.       5               0\n",
            "49117              Great selection of music.       5               0\n",
            "49915              Great selection of music.       5               0\n",
            "58543  Great selection of music and podcasts       5               0\n",
            "59155  Easy to use. Great selection of songs       5               0\n",
            "\n",
            "[180 rows x 3 columns]\n"
          ]
        }
      ],
      "source": [
        "# Memeriksa data duplikat\n",
        "duplikat = df[df.duplicated()]\n",
        "\n",
        "print(duplikat)"
      ]
    },
    {
      "cell_type": "code",
      "execution_count": null,
      "id": "2a5fb764-e7eb-4a7d-b187-7f65b118cccd",
      "metadata": {
        "id": "2a5fb764-e7eb-4a7d-b187-7f65b118cccd"
      },
      "outputs": [],
      "source": [
        "df = df.drop_duplicates()"
      ]
    },
    {
      "cell_type": "code",
      "execution_count": null,
      "id": "ded8aa83-112d-4cd9-bf54-a725361abefa",
      "metadata": {
        "id": "ded8aa83-112d-4cd9-bf54-a725361abefa"
      },
      "outputs": [],
      "source": [
        "# Tangani nilai NaN pada kolom 'Review' dengan menggantinya menjadi string kosong\n",
        "df['Review'].fillna('', inplace=True)"
      ]
    },
    {
      "cell_type": "markdown",
      "id": "b9177923-2045-4102-8e93-9194278da766",
      "metadata": {
        "id": "b9177923-2045-4102-8e93-9194278da766"
      },
      "source": [
        "**CLEANING DATASET**"
      ]
    },
    {
      "cell_type": "code",
      "execution_count": null,
      "id": "670d5f27-8471-4837-9f47-abe2bdf134aa",
      "metadata": {
        "id": "670d5f27-8471-4837-9f47-abe2bdf134aa",
        "outputId": "c297a7ef-1625-49ef-8a28-c28e94c9a7dd"
      },
      "outputs": [
        {
          "data": {
            "text/html": [
              "<div>\n",
              "<style scoped>\n",
              "    .dataframe tbody tr th:only-of-type {\n",
              "        vertical-align: middle;\n",
              "    }\n",
              "\n",
              "    .dataframe tbody tr th {\n",
              "        vertical-align: top;\n",
              "    }\n",
              "\n",
              "    .dataframe thead th {\n",
              "        text-align: right;\n",
              "    }\n",
              "</style>\n",
              "<table border=\"1\" class=\"dataframe\">\n",
              "  <thead>\n",
              "    <tr style=\"text-align: right;\">\n",
              "      <th></th>\n",
              "      <th>Review</th>\n",
              "      <th>Rating</th>\n",
              "      <th>Total_thumbsup</th>\n",
              "    </tr>\n",
              "  </thead>\n",
              "  <tbody>\n",
              "    <tr>\n",
              "      <th>0</th>\n",
              "      <td>Great music service, the audio is high quality...</td>\n",
              "      <td>5</td>\n",
              "      <td>2</td>\n",
              "    </tr>\n",
              "    <tr>\n",
              "      <th>1</th>\n",
              "      <td>Please ignore previous negative rating. This a...</td>\n",
              "      <td>5</td>\n",
              "      <td>1</td>\n",
              "    </tr>\n",
              "    <tr>\n",
              "      <th>2</th>\n",
              "      <td>This pop-up \"Get the best Spotify experience o...</td>\n",
              "      <td>4</td>\n",
              "      <td>0</td>\n",
              "    </tr>\n",
              "    <tr>\n",
              "      <th>3</th>\n",
              "      <td>Really buggy and terrible to use as of recently</td>\n",
              "      <td>1</td>\n",
              "      <td>1</td>\n",
              "    </tr>\n",
              "    <tr>\n",
              "      <th>4</th>\n",
              "      <td>Dear Spotify why do I get songs that I didn't ...</td>\n",
              "      <td>1</td>\n",
              "      <td>1</td>\n",
              "    </tr>\n",
              "    <tr>\n",
              "      <th>...</th>\n",
              "      <td>...</td>\n",
              "      <td>...</td>\n",
              "      <td>...</td>\n",
              "    </tr>\n",
              "    <tr>\n",
              "      <th>61589</th>\n",
              "      <td>Even though it was communicated that lyrics fe...</td>\n",
              "      <td>1</td>\n",
              "      <td>6</td>\n",
              "    </tr>\n",
              "    <tr>\n",
              "      <th>61590</th>\n",
              "      <td>Use to be sooo good back when I had it, and wh...</td>\n",
              "      <td>1</td>\n",
              "      <td>0</td>\n",
              "    </tr>\n",
              "    <tr>\n",
              "      <th>61591</th>\n",
              "      <td>This app would be good if not for it taking ov...</td>\n",
              "      <td>2</td>\n",
              "      <td>10</td>\n",
              "    </tr>\n",
              "    <tr>\n",
              "      <th>61592</th>\n",
              "      <td>The app is good hard to navigate and won't jus...</td>\n",
              "      <td>2</td>\n",
              "      <td>1</td>\n",
              "    </tr>\n",
              "    <tr>\n",
              "      <th>61593</th>\n",
              "      <td>Its good but sometimes it doesnt load the musi...</td>\n",
              "      <td>4</td>\n",
              "      <td>0</td>\n",
              "    </tr>\n",
              "  </tbody>\n",
              "</table>\n",
              "<p>61414 rows × 3 columns</p>\n",
              "</div>"
            ],
            "text/plain": [
              "                                                  Review  Rating  \\\n",
              "0      Great music service, the audio is high quality...       5   \n",
              "1      Please ignore previous negative rating. This a...       5   \n",
              "2      This pop-up \"Get the best Spotify experience o...       4   \n",
              "3        Really buggy and terrible to use as of recently       1   \n",
              "4      Dear Spotify why do I get songs that I didn't ...       1   \n",
              "...                                                  ...     ...   \n",
              "61589  Even though it was communicated that lyrics fe...       1   \n",
              "61590  Use to be sooo good back when I had it, and wh...       1   \n",
              "61591  This app would be good if not for it taking ov...       2   \n",
              "61592  The app is good hard to navigate and won't jus...       2   \n",
              "61593  Its good but sometimes it doesnt load the musi...       4   \n",
              "\n",
              "       Total_thumbsup  \n",
              "0                   2  \n",
              "1                   1  \n",
              "2                   0  \n",
              "3                   1  \n",
              "4                   1  \n",
              "...               ...  \n",
              "61589               6  \n",
              "61590               0  \n",
              "61591              10  \n",
              "61592               1  \n",
              "61593               0  \n",
              "\n",
              "[61414 rows x 3 columns]"
            ]
          },
          "execution_count": 10,
          "metadata": {},
          "output_type": "execute_result"
        }
      ],
      "source": [
        "df"
      ]
    },
    {
      "cell_type": "code",
      "execution_count": null,
      "id": "6814b3a5-4bc4-4f8f-8de3-fa4197ec1286",
      "metadata": {
        "id": "6814b3a5-4bc4-4f8f-8de3-fa4197ec1286"
      },
      "outputs": [],
      "source": [
        "def clean_text(text):\n",
        "    if not isinstance(text, str):  # Pastikan nilai berupa string\n",
        "        return \"\"\n",
        "    # Hilangkan karakter non-alfabet\n",
        "    text = re.sub(r'[^a-zA-Z\\s]', '', text)\n",
        "    # Ubah menjadi huruf kecil\n",
        "    text = text.lower()\n",
        "    # Tokenisasi\n",
        "    tokens = word_tokenize(text)\n",
        "    # Hilangkan stopwords\n",
        "    stop_words = set(stopwords.words('english'))\n",
        "    tokens = [word for word in tokens if word not in stop_words]\n",
        "    # Lemmatization\n",
        "    lemmatizer = WordNetLemmatizer()\n",
        "    tokens = [lemmatizer.lemmatize(word) for word in tokens]\n",
        "    # Gabungkan kembali menjadi teks bersih\n",
        "    return ' '.join(tokens)"
      ]
    },
    {
      "cell_type": "code",
      "execution_count": null,
      "id": "acf7e8d4-d19f-4fcd-894e-9f3ec58a5198",
      "metadata": {
        "id": "acf7e8d4-d19f-4fcd-894e-9f3ec58a5198"
      },
      "outputs": [],
      "source": [
        "# Bersihkan kolom title dan description\n",
        "df['Review'] = df['Review'].apply(clean_text)"
      ]
    },
    {
      "cell_type": "code",
      "execution_count": null,
      "id": "8303f5c0-80ea-44ee-8dc0-31a58c9a8b33",
      "metadata": {
        "id": "8303f5c0-80ea-44ee-8dc0-31a58c9a8b33",
        "outputId": "55087eb1-aef0-40bb-a419-1b8e5ed31e53"
      },
      "outputs": [
        {
          "data": {
            "text/html": [
              "<div>\n",
              "<style scoped>\n",
              "    .dataframe tbody tr th:only-of-type {\n",
              "        vertical-align: middle;\n",
              "    }\n",
              "\n",
              "    .dataframe tbody tr th {\n",
              "        vertical-align: top;\n",
              "    }\n",
              "\n",
              "    .dataframe thead th {\n",
              "        text-align: right;\n",
              "    }\n",
              "</style>\n",
              "<table border=\"1\" class=\"dataframe\">\n",
              "  <thead>\n",
              "    <tr style=\"text-align: right;\">\n",
              "      <th></th>\n",
              "      <th>Review</th>\n",
              "      <th>Rating</th>\n",
              "      <th>Total_thumbsup</th>\n",
              "    </tr>\n",
              "  </thead>\n",
              "  <tbody>\n",
              "    <tr>\n",
              "      <th>0</th>\n",
              "      <td>great music service audio high quality app eas...</td>\n",
              "      <td>5</td>\n",
              "      <td>2</td>\n",
              "    </tr>\n",
              "    <tr>\n",
              "      <th>1</th>\n",
              "      <td>please ignore previous negative rating app sup...</td>\n",
              "      <td>5</td>\n",
              "      <td>1</td>\n",
              "    </tr>\n",
              "    <tr>\n",
              "      <th>2</th>\n",
              "      <td>popup get best spotify experience android anno...</td>\n",
              "      <td>4</td>\n",
              "      <td>0</td>\n",
              "    </tr>\n",
              "    <tr>\n",
              "      <th>3</th>\n",
              "      <td>really buggy terrible use recently</td>\n",
              "      <td>1</td>\n",
              "      <td>1</td>\n",
              "    </tr>\n",
              "    <tr>\n",
              "      <th>4</th>\n",
              "      <td>dear spotify get song didnt put playlist shuff...</td>\n",
              "      <td>1</td>\n",
              "      <td>1</td>\n",
              "    </tr>\n",
              "    <tr>\n",
              "      <th>...</th>\n",
              "      <td>...</td>\n",
              "      <td>...</td>\n",
              "      <td>...</td>\n",
              "    </tr>\n",
              "    <tr>\n",
              "      <th>61589</th>\n",
              "      <td>even though communicated lyric feature availab...</td>\n",
              "      <td>1</td>\n",
              "      <td>6</td>\n",
              "    </tr>\n",
              "    <tr>\n",
              "      <th>61590</th>\n",
              "      <td>use sooo good back downloaded free version cou...</td>\n",
              "      <td>1</td>\n",
              "      <td>0</td>\n",
              "    </tr>\n",
              "    <tr>\n",
              "      <th>61591</th>\n",
              "      <td>app would good taking device start comp there ...</td>\n",
              "      <td>2</td>\n",
              "      <td>10</td>\n",
              "    </tr>\n",
              "    <tr>\n",
              "      <th>61592</th>\n",
              "      <td>app good hard navigate wont let play song clic...</td>\n",
              "      <td>2</td>\n",
              "      <td>1</td>\n",
              "    </tr>\n",
              "    <tr>\n",
              "      <th>61593</th>\n",
              "      <td>good sometimes doesnt load music play like sec...</td>\n",
              "      <td>4</td>\n",
              "      <td>0</td>\n",
              "    </tr>\n",
              "  </tbody>\n",
              "</table>\n",
              "<p>61414 rows × 3 columns</p>\n",
              "</div>"
            ],
            "text/plain": [
              "                                                  Review  Rating  \\\n",
              "0      great music service audio high quality app eas...       5   \n",
              "1      please ignore previous negative rating app sup...       5   \n",
              "2      popup get best spotify experience android anno...       4   \n",
              "3                     really buggy terrible use recently       1   \n",
              "4      dear spotify get song didnt put playlist shuff...       1   \n",
              "...                                                  ...     ...   \n",
              "61589  even though communicated lyric feature availab...       1   \n",
              "61590  use sooo good back downloaded free version cou...       1   \n",
              "61591  app would good taking device start comp there ...       2   \n",
              "61592  app good hard navigate wont let play song clic...       2   \n",
              "61593  good sometimes doesnt load music play like sec...       4   \n",
              "\n",
              "       Total_thumbsup  \n",
              "0                   2  \n",
              "1                   1  \n",
              "2                   0  \n",
              "3                   1  \n",
              "4                   1  \n",
              "...               ...  \n",
              "61589               6  \n",
              "61590               0  \n",
              "61591              10  \n",
              "61592               1  \n",
              "61593               0  \n",
              "\n",
              "[61414 rows x 3 columns]"
            ]
          },
          "execution_count": 13,
          "metadata": {},
          "output_type": "execute_result"
        }
      ],
      "source": [
        "df"
      ]
    },
    {
      "cell_type": "code",
      "execution_count": null,
      "id": "dbf48ead-b8a1-420a-8902-2f0285336d6d",
      "metadata": {
        "id": "dbf48ead-b8a1-420a-8902-2f0285336d6d"
      },
      "outputs": [],
      "source": [
        "ps = PorterStemmer()\n",
        "\n",
        "# Fungsi untuk melakukan stemming\n",
        "def stemming_text(text):\n",
        "    # Tokenisasi teks\n",
        "    words = word_tokenize(text)\n",
        "    # Stemming setiap kata\n",
        "    stemmed_words = [ps.stem(word) for word in words]\n",
        "    # Gabungkan kata-kata yang sudah di-stem menjadi satu teks\n",
        "    return ' '.join(stemmed_words)\n",
        "\n",
        "# Terapkan stemming pada kolom title dan description\n",
        "df['Review'] = df['Review'].apply(clean_text)"
      ]
    },
    {
      "cell_type": "code",
      "execution_count": null,
      "id": "a72e6843-ef9a-474c-83b1-e1a40e9e8b18",
      "metadata": {
        "id": "a72e6843-ef9a-474c-83b1-e1a40e9e8b18",
        "outputId": "9d420c6b-82f9-42c4-878c-09dbca88658a"
      },
      "outputs": [
        {
          "data": {
            "text/html": [
              "<div>\n",
              "<style scoped>\n",
              "    .dataframe tbody tr th:only-of-type {\n",
              "        vertical-align: middle;\n",
              "    }\n",
              "\n",
              "    .dataframe tbody tr th {\n",
              "        vertical-align: top;\n",
              "    }\n",
              "\n",
              "    .dataframe thead th {\n",
              "        text-align: right;\n",
              "    }\n",
              "</style>\n",
              "<table border=\"1\" class=\"dataframe\">\n",
              "  <thead>\n",
              "    <tr style=\"text-align: right;\">\n",
              "      <th></th>\n",
              "      <th>Review</th>\n",
              "      <th>Rating</th>\n",
              "      <th>Total_thumbsup</th>\n",
              "    </tr>\n",
              "  </thead>\n",
              "  <tbody>\n",
              "    <tr>\n",
              "      <th>0</th>\n",
              "      <td>great music service audio high quality app eas...</td>\n",
              "      <td>5</td>\n",
              "      <td>2</td>\n",
              "    </tr>\n",
              "    <tr>\n",
              "      <th>1</th>\n",
              "      <td>please ignore previous negative rating app sup...</td>\n",
              "      <td>5</td>\n",
              "      <td>1</td>\n",
              "    </tr>\n",
              "    <tr>\n",
              "      <th>2</th>\n",
              "      <td>popup get best spotify experience android anno...</td>\n",
              "      <td>4</td>\n",
              "      <td>0</td>\n",
              "    </tr>\n",
              "    <tr>\n",
              "      <th>3</th>\n",
              "      <td>really buggy terrible use recently</td>\n",
              "      <td>1</td>\n",
              "      <td>1</td>\n",
              "    </tr>\n",
              "    <tr>\n",
              "      <th>4</th>\n",
              "      <td>dear spotify get song didnt put playlist shuff...</td>\n",
              "      <td>1</td>\n",
              "      <td>1</td>\n",
              "    </tr>\n",
              "    <tr>\n",
              "      <th>...</th>\n",
              "      <td>...</td>\n",
              "      <td>...</td>\n",
              "      <td>...</td>\n",
              "    </tr>\n",
              "    <tr>\n",
              "      <th>61589</th>\n",
              "      <td>even though communicated lyric feature availab...</td>\n",
              "      <td>1</td>\n",
              "      <td>6</td>\n",
              "    </tr>\n",
              "    <tr>\n",
              "      <th>61590</th>\n",
              "      <td>use sooo good back downloaded free version cou...</td>\n",
              "      <td>1</td>\n",
              "      <td>0</td>\n",
              "    </tr>\n",
              "    <tr>\n",
              "      <th>61591</th>\n",
              "      <td>app would good taking device start comp spotif...</td>\n",
              "      <td>2</td>\n",
              "      <td>10</td>\n",
              "    </tr>\n",
              "    <tr>\n",
              "      <th>61592</th>\n",
              "      <td>app good hard navigate wont let play song clic...</td>\n",
              "      <td>2</td>\n",
              "      <td>1</td>\n",
              "    </tr>\n",
              "    <tr>\n",
              "      <th>61593</th>\n",
              "      <td>good sometimes doesnt load music play like sec...</td>\n",
              "      <td>4</td>\n",
              "      <td>0</td>\n",
              "    </tr>\n",
              "  </tbody>\n",
              "</table>\n",
              "<p>61414 rows × 3 columns</p>\n",
              "</div>"
            ],
            "text/plain": [
              "                                                  Review  Rating  \\\n",
              "0      great music service audio high quality app eas...       5   \n",
              "1      please ignore previous negative rating app sup...       5   \n",
              "2      popup get best spotify experience android anno...       4   \n",
              "3                     really buggy terrible use recently       1   \n",
              "4      dear spotify get song didnt put playlist shuff...       1   \n",
              "...                                                  ...     ...   \n",
              "61589  even though communicated lyric feature availab...       1   \n",
              "61590  use sooo good back downloaded free version cou...       1   \n",
              "61591  app would good taking device start comp spotif...       2   \n",
              "61592  app good hard navigate wont let play song clic...       2   \n",
              "61593  good sometimes doesnt load music play like sec...       4   \n",
              "\n",
              "       Total_thumbsup  \n",
              "0                   2  \n",
              "1                   1  \n",
              "2                   0  \n",
              "3                   1  \n",
              "4                   1  \n",
              "...               ...  \n",
              "61589               6  \n",
              "61590               0  \n",
              "61591              10  \n",
              "61592               1  \n",
              "61593               0  \n",
              "\n",
              "[61414 rows x 3 columns]"
            ]
          },
          "execution_count": 15,
          "metadata": {},
          "output_type": "execute_result"
        }
      ],
      "source": [
        "df"
      ]
    },
    {
      "cell_type": "markdown",
      "id": "04c82af2-4682-451c-8f1e-ddefd680bce2",
      "metadata": {
        "id": "04c82af2-4682-451c-8f1e-ddefd680bce2"
      },
      "source": [
        "**FEATURE ENGINEERING**"
      ]
    },
    {
      "cell_type": "code",
      "execution_count": null,
      "id": "be6e9672-f607-4d7e-b97e-cb0508ade619",
      "metadata": {
        "id": "be6e9672-f607-4d7e-b97e-cb0508ade619"
      },
      "outputs": [],
      "source": [
        "def transform_ratings(rating):\n",
        "    if rating == 5 or rating == 4:\n",
        "        return \"Baik\"\n",
        "    if rating == 3:\n",
        "        return \"Netral\"\n",
        "    if rating == 2 or rating == 1:\n",
        "        return \"Buruk\""
      ]
    },
    {
      "cell_type": "code",
      "execution_count": null,
      "id": "f505ce36-e397-4961-bc48-cd25cf2fa141",
      "metadata": {
        "id": "f505ce36-e397-4961-bc48-cd25cf2fa141"
      },
      "outputs": [],
      "source": [
        "df['Rating'] = df['Rating'].apply(transform_ratings)"
      ]
    },
    {
      "cell_type": "code",
      "execution_count": null,
      "id": "f20c0d76-c5f9-4dc0-8511-8eef3bb9bdb2",
      "metadata": {
        "id": "f20c0d76-c5f9-4dc0-8511-8eef3bb9bdb2",
        "outputId": "6dcd7207-137c-4180-93fb-781f7a6a9473"
      },
      "outputs": [
        {
          "data": {
            "text/html": [
              "<div>\n",
              "<style scoped>\n",
              "    .dataframe tbody tr th:only-of-type {\n",
              "        vertical-align: middle;\n",
              "    }\n",
              "\n",
              "    .dataframe tbody tr th {\n",
              "        vertical-align: top;\n",
              "    }\n",
              "\n",
              "    .dataframe thead th {\n",
              "        text-align: right;\n",
              "    }\n",
              "</style>\n",
              "<table border=\"1\" class=\"dataframe\">\n",
              "  <thead>\n",
              "    <tr style=\"text-align: right;\">\n",
              "      <th></th>\n",
              "      <th>Review</th>\n",
              "      <th>Rating</th>\n",
              "      <th>Total_thumbsup</th>\n",
              "    </tr>\n",
              "  </thead>\n",
              "  <tbody>\n",
              "    <tr>\n",
              "      <th>0</th>\n",
              "      <td>great music service audio high quality app eas...</td>\n",
              "      <td>Baik</td>\n",
              "      <td>2</td>\n",
              "    </tr>\n",
              "    <tr>\n",
              "      <th>1</th>\n",
              "      <td>please ignore previous negative rating app sup...</td>\n",
              "      <td>Baik</td>\n",
              "      <td>1</td>\n",
              "    </tr>\n",
              "    <tr>\n",
              "      <th>2</th>\n",
              "      <td>popup get best spotify experience android anno...</td>\n",
              "      <td>Baik</td>\n",
              "      <td>0</td>\n",
              "    </tr>\n",
              "    <tr>\n",
              "      <th>3</th>\n",
              "      <td>really buggy terrible use recently</td>\n",
              "      <td>Buruk</td>\n",
              "      <td>1</td>\n",
              "    </tr>\n",
              "    <tr>\n",
              "      <th>4</th>\n",
              "      <td>dear spotify get song didnt put playlist shuff...</td>\n",
              "      <td>Buruk</td>\n",
              "      <td>1</td>\n",
              "    </tr>\n",
              "    <tr>\n",
              "      <th>...</th>\n",
              "      <td>...</td>\n",
              "      <td>...</td>\n",
              "      <td>...</td>\n",
              "    </tr>\n",
              "    <tr>\n",
              "      <th>61589</th>\n",
              "      <td>even though communicated lyric feature availab...</td>\n",
              "      <td>Buruk</td>\n",
              "      <td>6</td>\n",
              "    </tr>\n",
              "    <tr>\n",
              "      <th>61590</th>\n",
              "      <td>use sooo good back downloaded free version cou...</td>\n",
              "      <td>Buruk</td>\n",
              "      <td>0</td>\n",
              "    </tr>\n",
              "    <tr>\n",
              "      <th>61591</th>\n",
              "      <td>app would good taking device start comp spotif...</td>\n",
              "      <td>Buruk</td>\n",
              "      <td>10</td>\n",
              "    </tr>\n",
              "    <tr>\n",
              "      <th>61592</th>\n",
              "      <td>app good hard navigate wont let play song clic...</td>\n",
              "      <td>Buruk</td>\n",
              "      <td>1</td>\n",
              "    </tr>\n",
              "    <tr>\n",
              "      <th>61593</th>\n",
              "      <td>good sometimes doesnt load music play like sec...</td>\n",
              "      <td>Baik</td>\n",
              "      <td>0</td>\n",
              "    </tr>\n",
              "  </tbody>\n",
              "</table>\n",
              "<p>61414 rows × 3 columns</p>\n",
              "</div>"
            ],
            "text/plain": [
              "                                                  Review Rating  \\\n",
              "0      great music service audio high quality app eas...   Baik   \n",
              "1      please ignore previous negative rating app sup...   Baik   \n",
              "2      popup get best spotify experience android anno...   Baik   \n",
              "3                     really buggy terrible use recently  Buruk   \n",
              "4      dear spotify get song didnt put playlist shuff...  Buruk   \n",
              "...                                                  ...    ...   \n",
              "61589  even though communicated lyric feature availab...  Buruk   \n",
              "61590  use sooo good back downloaded free version cou...  Buruk   \n",
              "61591  app would good taking device start comp spotif...  Buruk   \n",
              "61592  app good hard navigate wont let play song clic...  Buruk   \n",
              "61593  good sometimes doesnt load music play like sec...   Baik   \n",
              "\n",
              "       Total_thumbsup  \n",
              "0                   2  \n",
              "1                   1  \n",
              "2                   0  \n",
              "3                   1  \n",
              "4                   1  \n",
              "...               ...  \n",
              "61589               6  \n",
              "61590               0  \n",
              "61591              10  \n",
              "61592               1  \n",
              "61593               0  \n",
              "\n",
              "[61414 rows x 3 columns]"
            ]
          },
          "execution_count": 18,
          "metadata": {},
          "output_type": "execute_result"
        }
      ],
      "source": [
        "df"
      ]
    },
    {
      "cell_type": "code",
      "execution_count": null,
      "id": "c93e2d6b-ccf0-40a6-b4ab-4b443ef13608",
      "metadata": {
        "id": "c93e2d6b-ccf0-40a6-b4ab-4b443ef13608"
      },
      "outputs": [],
      "source": [
        "# df.to_csv('ulasan_spotify.csv', index=False)"
      ]
    },
    {
      "cell_type": "code",
      "execution_count": null,
      "id": "649660d0-4800-4b95-9f61-44c3f655bc81",
      "metadata": {
        "id": "649660d0-4800-4b95-9f61-44c3f655bc81",
        "outputId": "0c291a46-f612-46b5-cac8-dda963236c2c"
      },
      "outputs": [
        {
          "data": {
            "text/plain": [
              "((46060,), (15354,), (46060,), (15354,))"
            ]
          },
          "execution_count": 20,
          "metadata": {},
          "output_type": "execute_result"
        }
      ],
      "source": [
        "X = df['Review']\n",
        "y = df['Rating']\n",
        "\n",
        "X_train, X_test, y_train, y_test = train_test_split(X, y, test_size=0.25, random_state=40)\n",
        "X_train.shape, X_test.shape, y_train.shape, y_test.shape"
      ]
    },
    {
      "cell_type": "code",
      "execution_count": null,
      "id": "2c43d126-9d23-493a-9cd3-e2d19ebe8242",
      "metadata": {
        "id": "2c43d126-9d23-493a-9cd3-e2d19ebe8242"
      },
      "outputs": [],
      "source": [
        "le = LabelEncoder()\n",
        "le.fit(y_train)\n",
        "y_train = le.transform(y_train)\n",
        "y_test = le.transform(y_test)"
      ]
    },
    {
      "cell_type": "code",
      "execution_count": null,
      "id": "afdb4fc9-b8a6-42d4-abe6-07011045ceed",
      "metadata": {
        "id": "afdb4fc9-b8a6-42d4-abe6-07011045ceed"
      },
      "outputs": [],
      "source": [
        "tfidf = TfidfVectorizer(analyzer='char', ngram_range=(2,3))\n",
        "tfidf.fit(X_train)\n",
        "X_train_tfidf = tfidf.transform(X_train)\n",
        "X_test_tfidf = tfidf.transform(X_test)"
      ]
    },
    {
      "cell_type": "markdown",
      "id": "19312f7a-2ac9-4669-a2bc-5087cba1eb04",
      "metadata": {
        "id": "19312f7a-2ac9-4669-a2bc-5087cba1eb04"
      },
      "source": [
        "**MODELING**"
      ]
    },
    {
      "cell_type": "markdown",
      "id": "990a93df-06af-49a5-8000-0af9bebeed5b",
      "metadata": {
        "id": "990a93df-06af-49a5-8000-0af9bebeed5b"
      },
      "source": [
        "Random Forest"
      ]
    },
    {
      "cell_type": "code",
      "execution_count": null,
      "id": "9b2aa998-d300-481e-9ccb-a378b65d1732",
      "metadata": {
        "id": "9b2aa998-d300-481e-9ccb-a378b65d1732",
        "outputId": "b24c306d-c9a8-4942-e9a5-7f8789fc001a"
      },
      "outputs": [
        {
          "name": "stdout",
          "output_type": "stream",
          "text": [
            "Random Forest Classifier on TF-IDF Vectors: 0.753810082063306\n"
          ]
        }
      ],
      "source": [
        "rf2 = RandomForestClassifier()\n",
        "rf2.fit(X_train_tfidf, y_train)\n",
        "rf_tfidf = rf2.score(X_test_tfidf, y_test)\n",
        "print(f'Random Forest Classifier on TF-IDF Vectors: {rf_tfidf}')"
      ]
    },
    {
      "cell_type": "markdown",
      "id": "fa9da745-5014-49b5-913c-f0c0db1e68f3",
      "metadata": {
        "id": "fa9da745-5014-49b5-913c-f0c0db1e68f3"
      },
      "source": [
        "Support Vector Machines (SVM)"
      ]
    },
    {
      "cell_type": "code",
      "execution_count": null,
      "id": "4bb1845d-c20b-418e-90db-2775a0eca45b",
      "metadata": {
        "id": "4bb1845d-c20b-418e-90db-2775a0eca45b"
      },
      "outputs": [],
      "source": [
        "# from sklearn.svm import SVC\n",
        "\n",
        "# svm2 = SVC(kernel='linear', random_state=42)\n",
        "# svm2.fit(X_train_tfidf, y_train)\n",
        "# svm_tfidf = svm2.score(X_test_tfidf, y_test)\n",
        "# print(f'SVM Classifier on TF-IDF Vectors: {svm_tfidf}')"
      ]
    },
    {
      "cell_type": "markdown",
      "id": "192332de-0c86-463d-b595-224b3948fc74",
      "metadata": {
        "id": "192332de-0c86-463d-b595-224b3948fc74"
      },
      "source": [
        "Naive Bayes"
      ]
    },
    {
      "cell_type": "code",
      "execution_count": null,
      "id": "59da7f2d-4c41-4f3d-b579-2b39cf0497d0",
      "metadata": {
        "id": "59da7f2d-4c41-4f3d-b579-2b39cf0497d0",
        "outputId": "9ea28ac3-7be9-47c7-a959-23b6a337034b"
      },
      "outputs": [
        {
          "name": "stdout",
          "output_type": "stream",
          "text": [
            "Naive Bayes Classifier on TF-IDF Vectors: 0.7536798228474665\n"
          ]
        }
      ],
      "source": [
        "from sklearn.naive_bayes import MultinomialNB\n",
        "\n",
        "nb2 = MultinomialNB()\n",
        "nb2.fit(X_train_tfidf, y_train)\n",
        "nb_tfidf = nb2.score(X_test_tfidf, y_test)\n",
        "print(f'Naive Bayes Classifier on TF-IDF Vectors: {nb_tfidf}')"
      ]
    },
    {
      "cell_type": "markdown",
      "id": "3510c021-fcf1-4da9-b07e-f6f6a3152d3e",
      "metadata": {
        "id": "3510c021-fcf1-4da9-b07e-f6f6a3152d3e"
      },
      "source": [
        "Logistic Regression"
      ]
    },
    {
      "cell_type": "code",
      "execution_count": null,
      "id": "455d255c-1cbe-4768-a354-8f3c78a0747b",
      "metadata": {
        "id": "455d255c-1cbe-4768-a354-8f3c78a0747b",
        "outputId": "eaff36be-ac84-4d05-db56-730afeca1bf4"
      },
      "outputs": [
        {
          "name": "stdout",
          "output_type": "stream",
          "text": [
            "Logistic Regression Classifier on TF-IDF Vectors: 0.7834440536667969\n"
          ]
        }
      ],
      "source": [
        "from sklearn.linear_model import LogisticRegression\n",
        "\n",
        "lr2 = LogisticRegression(max_iter=1000, random_state=42)\n",
        "lr2.fit(X_train_tfidf, y_train)\n",
        "lr_tfidf = lr2.score(X_test_tfidf, y_test)\n",
        "print(f'Logistic Regression Classifier on TF-IDF Vectors: {lr_tfidf}')"
      ]
    },
    {
      "cell_type": "markdown",
      "id": "e8c8ba32-7640-4787-a195-bec460948d45",
      "metadata": {
        "id": "e8c8ba32-7640-4787-a195-bec460948d45"
      },
      "source": [
        "**EVALUATION**"
      ]
    },
    {
      "cell_type": "code",
      "execution_count": null,
      "id": "7ea50104-380d-46ce-8f89-7e178640c411",
      "metadata": {
        "id": "7ea50104-380d-46ce-8f89-7e178640c411",
        "outputId": "13654100-00e0-4479-c1f7-8d1d2a93a581"
      },
      "outputs": [
        {
          "name": "stdout",
          "output_type": "stream",
          "text": [
            "Random Forest Classifier on TF-IDF Vectors: 0.7543962485345839\n",
            "Training Time (RF): 631.8440 seconds\n",
            "Prediction Time (RF): 3.4109 seconds\n"
          ]
        },
        {
          "data": {
            "image/png": "[encoded data removed]",
            "text/plain": [
              "<Figure size 640x480 with 2 Axes>"
            ]
          },
          "metadata": {},
          "output_type": "display_data"
        },
        {
          "name": "stdout",
          "output_type": "stream",
          "text": [
            "Naive Bayes Classifier on TF-IDF Vectors: 0.7536798228474665\n",
            "Training Time (NB): 0.1214 seconds\n",
            "Prediction Time (NB): 0.0224 seconds\n"
          ]
        },
        {
          "data": {
            "image/png": "[encoded data removed]",
            "text/plain": [
              "<Figure size 640x480 with 2 Axes>"
            ]
          },
          "metadata": {},
          "output_type": "display_data"
        },
        {
          "name": "stdout",
          "output_type": "stream",
          "text": [
            "Logistic Regression Classifier on TF-IDF Vectors: 0.7834440536667969\n",
            "Training Time (LR): 35.3498 seconds\n",
            "Prediction Time (LR): 0.0235 seconds\n"
          ]
        },
        {
          "data": {
            "image/png": "[encoded data removed]",
            "text/plain": [
              "<Figure size 640x480 with 2 Axes>"
            ]
          },
          "metadata": {},
          "output_type": "display_data"
        },
        {
          "data": {
            "image/png": "[encoded data removed]",
            "text/plain": [
              "<Figure size 1000x600 with 3 Axes>"
            ]
          },
          "metadata": {},
          "output_type": "display_data"
        }
      ],
      "source": [
        "import time\n",
        "import matplotlib.pyplot as plt\n",
        "from sklearn.metrics import confusion_matrix, ConfusionMatrixDisplay\n",
        "\n",
        "# Model 1: Random Forest Classifier\n",
        "start_train = time.time()\n",
        "rf2 = RandomForestClassifier()\n",
        "rf2.fit(X_train_tfidf, y_train)\n",
        "end_train = time.time()\n",
        "\n",
        "start_pred = time.time()\n",
        "y_pred_rf = rf2.predict(X_test_tfidf)\n",
        "end_pred = time.time()\n",
        "\n",
        "rf_tfidf = rf2.score(X_test_tfidf, y_test)\n",
        "print(f'Random Forest Classifier on TF-IDF Vectors: {rf_tfidf}')\n",
        "print(f'Training Time (RF): {end_train - start_train:.4f} seconds')\n",
        "print(f'Prediction Time (RF): {end_pred - start_pred:.4f} seconds')\n",
        "\n",
        "# Confusion Matrix\n",
        "cm_rf = confusion_matrix(y_test, y_pred_rf)\n",
        "disp_rf = ConfusionMatrixDisplay(cm_rf, display_labels=rf2.classes_)\n",
        "disp_rf.plot()\n",
        "plt.title(\"Confusion Matrix: Random Forest\")\n",
        "plt.show()\n",
        "\n",
        "# Model 2: Naive Bayes Classifier\n",
        "start_train = time.time()\n",
        "nb2 = MultinomialNB()\n",
        "nb2.fit(X_train_tfidf, y_train)\n",
        "end_train = time.time()\n",
        "\n",
        "start_pred = time.time()\n",
        "y_pred_nb = nb2.predict(X_test_tfidf)\n",
        "end_pred = time.time()\n",
        "\n",
        "nb_tfidf = nb2.score(X_test_tfidf, y_test)\n",
        "print(f'Naive Bayes Classifier on TF-IDF Vectors: {nb_tfidf}')\n",
        "print(f'Training Time (NB): {end_train - start_train:.4f} seconds')\n",
        "print(f'Prediction Time (NB): {end_pred - start_pred:.4f} seconds')\n",
        "\n",
        "# Confusion Matrix\n",
        "cm_nb = confusion_matrix(y_test, y_pred_nb)\n",
        "disp_nb = ConfusionMatrixDisplay(cm_nb, display_labels=nb2.classes_)\n",
        "disp_nb.plot()\n",
        "plt.title(\"Confusion Matrix: Naive Bayes\")\n",
        "plt.show()\n",
        "\n",
        "# Model 3: Logistic Regression\n",
        "start_train = time.time()\n",
        "lr2 = LogisticRegression(max_iter=1000, random_state=42)\n",
        "lr2.fit(X_train_tfidf, y_train)\n",
        "end_train = time.time()\n",
        "\n",
        "start_pred = time.time()\n",
        "y_pred_lr = lr2.predict(X_test_tfidf)\n",
        "end_pred = time.time()\n",
        "\n",
        "lr_tfidf = lr2.score(X_test_tfidf, y_test)\n",
        "print(f'Logistic Regression Classifier on TF-IDF Vectors: {lr_tfidf}')\n",
        "print(f'Training Time (LR): {end_train - start_train:.4f} seconds')\n",
        "print(f'Prediction Time (LR): {end_pred - start_pred:.4f} seconds')\n",
        "\n",
        "# Confusion Matrix\n",
        "cm_lr = confusion_matrix(y_test, y_pred_lr)\n",
        "disp_lr = ConfusionMatrixDisplay(cm_lr, display_labels=lr2.classes_)\n",
        "disp_lr.plot()\n",
        "plt.title(\"Confusion Matrix: Logistic Regression\")\n",
        "plt.show()\n",
        "\n",
        "# Visualisasi Perbandingan\n",
        "scores = [rf_tfidf, nb_tfidf, lr_tfidf]\n",
        "train_times = [end_train - start_train for _ in range(3)]\n",
        "pred_times = [end_pred - start_pred for _ in range(3)]\n",
        "models = ['Random Forest', 'Naive Bayes', 'Logistic Regression']\n",
        "\n",
        "plt.figure(figsize=(10, 6))\n",
        "\n",
        "# Plot Accuracy\n",
        "plt.subplot(3, 1, 1)\n",
        "plt.bar(models, scores, color=['blue', 'green', 'orange'])\n",
        "plt.ylabel('Accuracy')\n",
        "plt.title('Model Accuracy Comparison')\n",
        "\n",
        "# Plot Training Time\n",
        "plt.subplot(3, 1, 2)\n",
        "plt.bar(models, train_times, color=['blue', 'green', 'orange'])\n",
        "plt.ylabel('Training Time (s)')\n",
        "plt.title('Model Training Time Comparison')\n",
        "\n",
        "# Plot Prediction Time\n",
        "plt.subplot(3, 1, 3)\n",
        "plt.bar(models, pred_times, color=['blue', 'green', 'orange'])\n",
        "plt.ylabel('Prediction Time (s)')\n",
        "plt.title('Model Prediction Time Comparison')\n",
        "\n",
        "plt.tight_layout()\n",
        "plt.show()"
      ]
    },
    {
      "cell_type": "code",
      "execution_count": null,
      "id": "0d9fdcc1-326c-4c07-9d09-1964949374ae",
      "metadata": {
        "id": "0d9fdcc1-326c-4c07-9d09-1964949374ae",
        "outputId": "c8def7b3-f35b-4173-fe67-946c4fb9b526"
      },
      "outputs": [
        {
          "data": {
            "image/png": "[encoded data removed]",
            "text/plain": [
              "<Figure size 1000x800 with 3 Axes>"
            ]
          },
          "metadata": {},
          "output_type": "display_data"
        }
      ],
      "source": [
        "# Visualisasi Perbandingan dengan Penyesuaian pada Plot Akurasi, Waktu Pelatihan, dan Waktu Prediksi\n",
        "scores = [rf_tfidf, nb_tfidf, lr_tfidf]\n",
        "train_times = [end_train - start_train for _ in range(3)]\n",
        "pred_times = [end_pred - start_pred for _ in range(3)]\n",
        "models = ['Random Forest', 'Naive Bayes', 'Logistic Regression']\n",
        "\n",
        "plt.figure(figsize=(10, 8))\n",
        "\n",
        "# Plot Accuracy with adjusted y-axis for better visibility\n",
        "plt.subplot(3, 1, 1)\n",
        "plt.bar(models, scores, color=['blue', 'green', 'orange'])\n",
        "plt.ylabel('Accuracy')\n",
        "plt.title('Model Accuracy Comparison')\n",
        "plt.ylim([min(scores) - 0.05, max(scores) + 0.05])  # Adjust y-axis range to add some padding\n",
        "\n",
        "# Plot Training Time with expanded y-axis range for better visibility\n",
        "plt.subplot(3, 1, 2)\n",
        "plt.bar(models, train_times, color=['blue', 'green', 'orange'])\n",
        "plt.ylabel('Training Time (s)')\n",
        "plt.title('Model Training Time Comparison')\n",
        "plt.ylim([min(train_times) - 0.01, max(train_times) + 0.02])  # Adjust y-axis for better range\n",
        "\n",
        "# Plot Prediction Time with expanded y-axis range for better visibility\n",
        "plt.subplot(3, 1, 3)\n",
        "plt.bar(models, pred_times, color=['blue', 'green', 'orange'])\n",
        "plt.ylabel('Prediction Time (s)')\n",
        "plt.title('Model Prediction Time Comparison')\n",
        "plt.ylim([min(pred_times) - 0.01, max(pred_times) + 0.02])  # Adjust y-axis for better range\n",
        "\n",
        "# Add text on top of bars for clarity\n",
        "for i, v in enumerate(scores):\n",
        "    plt.subplot(3, 1, 1)\n",
        "    plt.text(i, v + 0.02, f'{v:.4f}', ha='center', va='bottom')\n",
        "\n",
        "for i, v in enumerate(train_times):\n",
        "    plt.subplot(3, 1, 2)\n",
        "    plt.text(i, v + 0.01, f'{v:.4f}', ha='center', va='bottom')\n",
        "\n",
        "for i, v in enumerate(pred_times):\n",
        "    plt.subplot(3, 1, 3)\n",
        "    plt.text(i, v + 0.01, f'{v:.4f}', ha='center', va='bottom')\n",
        "\n",
        "plt.tight_layout()\n",
        "plt.show()"
      ]
    },
    {
      "cell_type": "code",
      "execution_count": null,
      "id": "4450d779-b78c-455c-852c-fb533eef4953",
      "metadata": {
        "id": "4450d779-b78c-455c-852c-fb533eef4953"
      },
      "outputs": [],
      "source": []
    }
  ],
  "metadata": {
    "kernelspec": {
      "display_name": "Python 3 (ipykernel)",
      "language": "python",
      "name": "python3"
    },
    "language_info": {
      "codemirror_mode": {
        "name": "ipython",
        "version": 3
      },
      "file_extension": ".py",
      "mimetype": "text/x-python",
      "name": "python",
      "nbconvert_exporter": "python",
      "pygments_lexer": "ipython3",
      "version": "3.11.5"
    },
    "colab": {
      "provenance": []
    }
  },
  "nbformat": 4,
  "nbformat_minor": 5
}